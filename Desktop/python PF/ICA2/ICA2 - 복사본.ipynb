{
 "cells": [
  {
   "cell_type": "markdown",
   "id": "0852bcce",
   "metadata": {},
   "source": [
    "# Title\n",
    "## Subtitle\n",
    "### name\n",
    "\n",
    "#used data from WHO(World Health Organization)"
   ]
  },
  {
   "cell_type": "markdown",
   "id": "a5960242",
   "metadata": {},
   "source": [
    "# 1. Imports"
   ]
  },
  {
   "cell_type": "code",
   "execution_count": 10,
   "id": "a7d7d614",
   "metadata": {},
   "outputs": [
    {
     "name": "stdout",
     "output_type": "stream",
     "text": [
      "Requirement already satisfied: dataprep in c:\\users\\soojin\\appdata\\roaming\\python\\python39\\site-packages (0.4.5)\n",
      "Requirement already satisfied: wordcloud<2.0,>=1.8 in c:\\users\\soojin\\appdata\\roaming\\python\\python39\\site-packages (from dataprep) (1.8.2.2)\n",
      "Requirement already satisfied: jsonpath-ng<2.0,>=1.5 in c:\\users\\soojin\\appdata\\roaming\\python\\python39\\site-packages (from dataprep) (1.5.3)\n",
      "Requirement already satisfied: pydantic<2.0,>=1.6 in c:\\users\\soojin\\anaconda3\\lib\\site-packages (from dataprep) (1.10.2)\n",
      "Requirement already satisfied: python-stdnum<2.0,>=1.16 in c:\\users\\soojin\\anaconda3\\lib\\site-packages (from dataprep) (1.18)\n",
      "Requirement already satisfied: pandas<2.0,>=1.1 in c:\\users\\soojin\\anaconda3\\lib\\site-packages (from dataprep) (1.4.4)\n",
      "Requirement already satisfied: rapidfuzz<3.0.0,>=2.1.2 in c:\\users\\soojin\\anaconda3\\lib\\site-packages (from dataprep) (2.13.6)\n",
      "Requirement already satisfied: pydot<2.0.0,>=1.4.2 in c:\\users\\soojin\\anaconda3\\lib\\site-packages (from dataprep) (1.4.2)\n",
      "Requirement already satisfied: tqdm<5.0,>=4.48 in c:\\users\\soojin\\anaconda3\\lib\\site-packages (from dataprep) (4.64.1)\n",
      "Requirement already satisfied: numpy<2.0,>=1.21 in c:\\users\\soojin\\anaconda3\\lib\\site-packages (from dataprep) (1.21.5)\n",
      "Requirement already satisfied: nltk<4.0.0,>=3.6.7 in c:\\users\\soojin\\anaconda3\\lib\\site-packages (from dataprep) (3.7)\n",
      "Requirement already satisfied: regex<2022.0.0,>=2021.8.3 in c:\\users\\soojin\\anaconda3\\lib\\site-packages (from dataprep) (2021.11.10)\n",
      "Requirement already satisfied: scipy<2.0,>=1.8 in c:\\users\\soojin\\anaconda3\\lib\\site-packages (from dataprep) (1.9.1)\n",
      "Requirement already satisfied: dask[array,dataframe,delayed]>=2022.3.0 in c:\\users\\soojin\\anaconda3\\lib\\site-packages (from dataprep) (2022.7.0)\n",
      "Requirement already satisfied: flask<3,>=2 in c:\\users\\soojin\\appdata\\roaming\\python\\python39\\site-packages (from dataprep) (2.2.2)\n",
      "Requirement already satisfied: flask_cors<4.0.0,>=3.0.10 in c:\\users\\soojin\\appdata\\roaming\\python\\python39\\site-packages (from dataprep) (3.0.10)\n",
      "Requirement already satisfied: metaphone<0.7,>=0.6 in c:\\users\\soojin\\anaconda3\\lib\\site-packages (from dataprep) (0.6)\n",
      "Requirement already satisfied: ipywidgets<8.0,>=7.5 in c:\\users\\soojin\\anaconda3\\lib\\site-packages (from dataprep) (7.6.5)\n",
      "Requirement already satisfied: bokeh<3,>=2 in c:\\users\\soojin\\anaconda3\\lib\\site-packages (from dataprep) (2.4.3)\n",
      "Requirement already satisfied: sqlalchemy==1.3.24 in c:\\users\\soojin\\anaconda3\\lib\\site-packages (from dataprep) (1.3.24)\n",
      "Requirement already satisfied: python-crfsuite==0.9.8 in c:\\users\\soojin\\anaconda3\\lib\\site-packages (from dataprep) (0.9.8)\n",
      "Requirement already satisfied: varname<0.9.0,>=0.8.1 in c:\\users\\soojin\\appdata\\roaming\\python\\python39\\site-packages (from dataprep) (0.8.3)\n",
      "Requirement already satisfied: jinja2<3.1,>=3.0 in c:\\users\\soojin\\appdata\\roaming\\python\\python39\\site-packages (from dataprep) (3.0.3)\n",
      "Requirement already satisfied: aiohttp<4.0,>=3.6 in c:\\users\\soojin\\appdata\\roaming\\python\\python39\\site-packages (from dataprep) (3.8.3)\n",
      "Requirement already satisfied: yarl<2.0,>=1.0 in c:\\users\\soojin\\appdata\\roaming\\python\\python39\\site-packages (from aiohttp<4.0,>=3.6->dataprep) (1.8.2)\n",
      "Requirement already satisfied: attrs>=17.3.0 in c:\\users\\soojin\\anaconda3\\lib\\site-packages (from aiohttp<4.0,>=3.6->dataprep) (21.4.0)\n",
      "Requirement already satisfied: frozenlist>=1.1.1 in c:\\users\\soojin\\appdata\\roaming\\python\\python39\\site-packages (from aiohttp<4.0,>=3.6->dataprep) (1.3.3)\n",
      "Requirement already satisfied: async-timeout<5.0,>=4.0.0a3 in c:\\users\\soojin\\appdata\\roaming\\python\\python39\\site-packages (from aiohttp<4.0,>=3.6->dataprep) (4.0.2)\n",
      "Requirement already satisfied: charset-normalizer<3.0,>=2.0 in c:\\users\\soojin\\anaconda3\\lib\\site-packages (from aiohttp<4.0,>=3.6->dataprep) (2.0.4)\n",
      "Requirement already satisfied: aiosignal>=1.1.2 in c:\\users\\soojin\\appdata\\roaming\\python\\python39\\site-packages (from aiohttp<4.0,>=3.6->dataprep) (1.3.1)\n",
      "Requirement already satisfied: multidict<7.0,>=4.5 in c:\\users\\soojin\\anaconda3\\lib\\site-packages (from aiohttp<4.0,>=3.6->dataprep) (6.0.3)\n",
      "Requirement already satisfied: PyYAML>=3.10 in c:\\users\\soojin\\anaconda3\\lib\\site-packages (from bokeh<3,>=2->dataprep) (6.0)\n",
      "Requirement already satisfied: packaging>=16.8 in c:\\users\\soojin\\anaconda3\\lib\\site-packages (from bokeh<3,>=2->dataprep) (21.3)\n",
      "Requirement already satisfied: typing-extensions>=3.10.0 in c:\\users\\soojin\\anaconda3\\lib\\site-packages (from bokeh<3,>=2->dataprep) (4.3.0)\n",
      "Requirement already satisfied: pillow>=7.1.0 in c:\\users\\soojin\\anaconda3\\lib\\site-packages (from bokeh<3,>=2->dataprep) (9.2.0)\n",
      "Requirement already satisfied: tornado>=5.1 in c:\\users\\soojin\\anaconda3\\lib\\site-packages (from bokeh<3,>=2->dataprep) (6.1)\n",
      "Requirement already satisfied: partd>=0.3.10 in c:\\users\\soojin\\anaconda3\\lib\\site-packages (from dask[array,dataframe,delayed]>=2022.3.0->dataprep) (1.2.0)\n",
      "Requirement already satisfied: cloudpickle>=1.1.1 in c:\\users\\soojin\\anaconda3\\lib\\site-packages (from dask[array,dataframe,delayed]>=2022.3.0->dataprep) (2.0.0)\n",
      "Requirement already satisfied: toolz>=0.8.2 in c:\\users\\soojin\\anaconda3\\lib\\site-packages (from dask[array,dataframe,delayed]>=2022.3.0->dataprep) (0.11.2)\n",
      "Requirement already satisfied: fsspec>=0.6.0 in c:\\users\\soojin\\anaconda3\\lib\\site-packages (from dask[array,dataframe,delayed]>=2022.3.0->dataprep) (2022.7.1)\n",
      "Requirement already satisfied: itsdangerous>=2.0 in c:\\users\\soojin\\anaconda3\\lib\\site-packages (from flask<3,>=2->dataprep) (2.0.1)\n",
      "Requirement already satisfied: importlib-metadata>=3.6.0 in c:\\users\\soojin\\anaconda3\\lib\\site-packages (from flask<3,>=2->dataprep) (4.11.3)\n",
      "Requirement already satisfied: click>=8.0 in c:\\users\\soojin\\anaconda3\\lib\\site-packages (from flask<3,>=2->dataprep) (8.0.4)\n",
      "Requirement already satisfied: Werkzeug>=2.2.2 in c:\\users\\soojin\\appdata\\roaming\\python\\python39\\site-packages (from flask<3,>=2->dataprep) (2.2.2)\n",
      "Requirement already satisfied: Six in c:\\users\\soojin\\anaconda3\\lib\\site-packages (from flask_cors<4.0.0,>=3.0.10->dataprep) (1.16.0)\n",
      "Requirement already satisfied: nbformat>=4.2.0 in c:\\users\\soojin\\anaconda3\\lib\\site-packages (from ipywidgets<8.0,>=7.5->dataprep) (5.5.0)\n",
      "Requirement already satisfied: traitlets>=4.3.1 in c:\\users\\soojin\\anaconda3\\lib\\site-packages (from ipywidgets<8.0,>=7.5->dataprep) (5.1.1)\n",
      "Requirement already satisfied: ipykernel>=4.5.1 in c:\\users\\soojin\\anaconda3\\lib\\site-packages (from ipywidgets<8.0,>=7.5->dataprep) (6.15.2)\n",
      "Requirement already satisfied: jupyterlab-widgets>=1.0.0 in c:\\users\\soojin\\anaconda3\\lib\\site-packages (from ipywidgets<8.0,>=7.5->dataprep) (1.0.0)\n",
      "Requirement already satisfied: ipython>=4.0.0 in c:\\users\\soojin\\anaconda3\\lib\\site-packages (from ipywidgets<8.0,>=7.5->dataprep) (7.31.1)\n",
      "Requirement already satisfied: ipython-genutils~=0.2.0 in c:\\users\\soojin\\anaconda3\\lib\\site-packages (from ipywidgets<8.0,>=7.5->dataprep) (0.2.0)\n",
      "Requirement already satisfied: widgetsnbextension~=3.5.0 in c:\\users\\soojin\\anaconda3\\lib\\site-packages (from ipywidgets<8.0,>=7.5->dataprep) (3.5.2)\n",
      "Requirement already satisfied: MarkupSafe>=2.0 in c:\\users\\soojin\\anaconda3\\lib\\site-packages (from jinja2<3.1,>=3.0->dataprep) (2.1.1)\n",
      "Requirement already satisfied: decorator in c:\\users\\soojin\\anaconda3\\lib\\site-packages (from jsonpath-ng<2.0,>=1.5->dataprep) (5.1.1)\n",
      "Requirement already satisfied: ply in c:\\users\\soojin\\anaconda3\\lib\\site-packages (from jsonpath-ng<2.0,>=1.5->dataprep) (3.11)\n",
      "Requirement already satisfied: joblib in c:\\users\\soojin\\anaconda3\\lib\\site-packages (from nltk<4.0.0,>=3.6.7->dataprep) (1.1.0)\n",
      "Requirement already satisfied: python-dateutil>=2.8.1 in c:\\users\\soojin\\anaconda3\\lib\\site-packages (from pandas<2.0,>=1.1->dataprep) (2.8.2)\n",
      "Requirement already satisfied: pytz>=2020.1 in c:\\users\\soojin\\anaconda3\\lib\\site-packages (from pandas<2.0,>=1.1->dataprep) (2022.1)\n",
      "Requirement already satisfied: pyparsing>=2.1.4 in c:\\users\\soojin\\anaconda3\\lib\\site-packages (from pydot<2.0.0,>=1.4.2->dataprep) (3.0.9)\n",
      "Requirement already satisfied: colorama in c:\\users\\soojin\\anaconda3\\lib\\site-packages (from tqdm<5.0,>=4.48->dataprep) (0.4.5)\n",
      "Requirement already satisfied: executing<0.9.0,>=0.8.3 in c:\\users\\soojin\\anaconda3\\lib\\site-packages (from varname<0.9.0,>=0.8.1->dataprep) (0.8.3)\n",
      "Requirement already satisfied: asttokens<3.0.0,>=2.0.0 in c:\\users\\soojin\\appdata\\roaming\\python\\python39\\site-packages (from varname<0.9.0,>=0.8.1->dataprep) (2.2.1)\n",
      "Requirement already satisfied: pure_eval<1.0.0 in c:\\users\\soojin\\anaconda3\\lib\\site-packages (from varname<0.9.0,>=0.8.1->dataprep) (0.2.2)\n",
      "Requirement already satisfied: matplotlib in c:\\users\\soojin\\anaconda3\\lib\\site-packages (from wordcloud<2.0,>=1.8->dataprep) (3.5.2)\n",
      "Requirement already satisfied: zipp>=0.5 in c:\\users\\soojin\\anaconda3\\lib\\site-packages (from importlib-metadata>=3.6.0->flask<3,>=2->dataprep) (3.8.0)\n",
      "Requirement already satisfied: matplotlib-inline>=0.1 in c:\\users\\soojin\\anaconda3\\lib\\site-packages (from ipykernel>=4.5.1->ipywidgets<8.0,>=7.5->dataprep) (0.1.6)\n",
      "Requirement already satisfied: nest-asyncio in c:\\users\\soojin\\anaconda3\\lib\\site-packages (from ipykernel>=4.5.1->ipywidgets<8.0,>=7.5->dataprep) (1.5.5)\n",
      "Requirement already satisfied: psutil in c:\\users\\soojin\\anaconda3\\lib\\site-packages (from ipykernel>=4.5.1->ipywidgets<8.0,>=7.5->dataprep) (5.9.0)\n",
      "Requirement already satisfied: debugpy>=1.0 in c:\\users\\soojin\\anaconda3\\lib\\site-packages (from ipykernel>=4.5.1->ipywidgets<8.0,>=7.5->dataprep) (1.5.1)\n",
      "Requirement already satisfied: jupyter-client>=6.1.12 in c:\\users\\soojin\\anaconda3\\lib\\site-packages (from ipykernel>=4.5.1->ipywidgets<8.0,>=7.5->dataprep) (7.3.4)\n",
      "Requirement already satisfied: pyzmq>=17 in c:\\users\\soojin\\anaconda3\\lib\\site-packages (from ipykernel>=4.5.1->ipywidgets<8.0,>=7.5->dataprep) (23.2.0)\n",
      "Requirement already satisfied: prompt-toolkit!=3.0.0,!=3.0.1,<3.1.0,>=2.0.0 in c:\\users\\soojin\\anaconda3\\lib\\site-packages (from ipython>=4.0.0->ipywidgets<8.0,>=7.5->dataprep) (3.0.20)\n",
      "Requirement already satisfied: pygments in c:\\users\\soojin\\anaconda3\\lib\\site-packages (from ipython>=4.0.0->ipywidgets<8.0,>=7.5->dataprep) (2.11.2)\n",
      "Requirement already satisfied: backcall in c:\\users\\soojin\\anaconda3\\lib\\site-packages (from ipython>=4.0.0->ipywidgets<8.0,>=7.5->dataprep) (0.2.0)\n",
      "Requirement already satisfied: setuptools>=18.5 in c:\\users\\soojin\\anaconda3\\lib\\site-packages (from ipython>=4.0.0->ipywidgets<8.0,>=7.5->dataprep) (63.4.1)\n",
      "Requirement already satisfied: jedi>=0.16 in c:\\users\\soojin\\anaconda3\\lib\\site-packages (from ipython>=4.0.0->ipywidgets<8.0,>=7.5->dataprep) (0.18.1)\n",
      "Requirement already satisfied: pickleshare in c:\\users\\soojin\\anaconda3\\lib\\site-packages (from ipython>=4.0.0->ipywidgets<8.0,>=7.5->dataprep) (0.7.5)\n",
      "Requirement already satisfied: jupyter_core in c:\\users\\soojin\\anaconda3\\lib\\site-packages (from nbformat>=4.2.0->ipywidgets<8.0,>=7.5->dataprep) (4.11.1)\n",
      "Requirement already satisfied: jsonschema>=2.6 in c:\\users\\soojin\\anaconda3\\lib\\site-packages (from nbformat>=4.2.0->ipywidgets<8.0,>=7.5->dataprep) (4.16.0)\n",
      "Requirement already satisfied: fastjsonschema in c:\\users\\soojin\\anaconda3\\lib\\site-packages (from nbformat>=4.2.0->ipywidgets<8.0,>=7.5->dataprep) (2.16.2)\n",
      "Requirement already satisfied: locket in c:\\users\\soojin\\anaconda3\\lib\\site-packages (from partd>=0.3.10->dask[array,dataframe,delayed]>=2022.3.0->dataprep) (1.0.0)\n",
      "Requirement already satisfied: notebook>=4.4.1 in c:\\users\\soojin\\anaconda3\\lib\\site-packages (from widgetsnbextension~=3.5.0->ipywidgets<8.0,>=7.5->dataprep) (6.4.12)\n",
      "Requirement already satisfied: idna>=2.0 in c:\\users\\soojin\\anaconda3\\lib\\site-packages (from yarl<2.0,>=1.0->aiohttp<4.0,>=3.6->dataprep) (3.3)\n",
      "Requirement already satisfied: kiwisolver>=1.0.1 in c:\\users\\soojin\\anaconda3\\lib\\site-packages (from matplotlib->wordcloud<2.0,>=1.8->dataprep) (1.4.2)\n",
      "Requirement already satisfied: cycler>=0.10 in c:\\users\\soojin\\anaconda3\\lib\\site-packages (from matplotlib->wordcloud<2.0,>=1.8->dataprep) (0.11.0)\n",
      "Requirement already satisfied: fonttools>=4.22.0 in c:\\users\\soojin\\anaconda3\\lib\\site-packages (from matplotlib->wordcloud<2.0,>=1.8->dataprep) (4.25.0)\n",
      "Requirement already satisfied: parso<0.9.0,>=0.8.0 in c:\\users\\soojin\\anaconda3\\lib\\site-packages (from jedi>=0.16->ipython>=4.0.0->ipywidgets<8.0,>=7.5->dataprep) (0.8.3)\n",
      "Requirement already satisfied: pyrsistent!=0.17.0,!=0.17.1,!=0.17.2,>=0.14.0 in c:\\users\\soojin\\anaconda3\\lib\\site-packages (from jsonschema>=2.6->nbformat>=4.2.0->ipywidgets<8.0,>=7.5->dataprep) (0.18.0)\n",
      "Requirement already satisfied: entrypoints in c:\\users\\soojin\\anaconda3\\lib\\site-packages (from jupyter-client>=6.1.12->ipykernel>=4.5.1->ipywidgets<8.0,>=7.5->dataprep) (0.4)\n",
      "Requirement already satisfied: pywin32>=1.0 in c:\\users\\soojin\\anaconda3\\lib\\site-packages (from jupyter_core->nbformat>=4.2.0->ipywidgets<8.0,>=7.5->dataprep) (302)\n",
      "Requirement already satisfied: Send2Trash>=1.8.0 in c:\\users\\soojin\\anaconda3\\lib\\site-packages (from notebook>=4.4.1->widgetsnbextension~=3.5.0->ipywidgets<8.0,>=7.5->dataprep) (1.8.0)\n",
      "Requirement already satisfied: prometheus-client in c:\\users\\soojin\\anaconda3\\lib\\site-packages (from notebook>=4.4.1->widgetsnbextension~=3.5.0->ipywidgets<8.0,>=7.5->dataprep) (0.14.1)\n",
      "Requirement already satisfied: argon2-cffi in c:\\users\\soojin\\anaconda3\\lib\\site-packages (from notebook>=4.4.1->widgetsnbextension~=3.5.0->ipywidgets<8.0,>=7.5->dataprep) (21.3.0)\n",
      "Requirement already satisfied: terminado>=0.8.3 in c:\\users\\soojin\\anaconda3\\lib\\site-packages (from notebook>=4.4.1->widgetsnbextension~=3.5.0->ipywidgets<8.0,>=7.5->dataprep) (0.13.1)\n",
      "Requirement already satisfied: nbconvert>=5 in c:\\users\\soojin\\anaconda3\\lib\\site-packages (from notebook>=4.4.1->widgetsnbextension~=3.5.0->ipywidgets<8.0,>=7.5->dataprep) (6.4.4)\n",
      "Requirement already satisfied: wcwidth in c:\\users\\soojin\\anaconda3\\lib\\site-packages (from prompt-toolkit!=3.0.0,!=3.0.1,<3.1.0,>=2.0.0->ipython>=4.0.0->ipywidgets<8.0,>=7.5->dataprep) (0.2.5)\n",
      "Requirement already satisfied: beautifulsoup4 in c:\\users\\soojin\\anaconda3\\lib\\site-packages (from nbconvert>=5->notebook>=4.4.1->widgetsnbextension~=3.5.0->ipywidgets<8.0,>=7.5->dataprep) (4.11.1)\n",
      "Requirement already satisfied: bleach in c:\\users\\soojin\\anaconda3\\lib\\site-packages (from nbconvert>=5->notebook>=4.4.1->widgetsnbextension~=3.5.0->ipywidgets<8.0,>=7.5->dataprep) (4.1.0)\n",
      "Requirement already satisfied: mistune<2,>=0.8.1 in c:\\users\\soojin\\anaconda3\\lib\\site-packages (from nbconvert>=5->notebook>=4.4.1->widgetsnbextension~=3.5.0->ipywidgets<8.0,>=7.5->dataprep) (0.8.4)\n",
      "Requirement already satisfied: jupyterlab-pygments in c:\\users\\soojin\\anaconda3\\lib\\site-packages (from nbconvert>=5->notebook>=4.4.1->widgetsnbextension~=3.5.0->ipywidgets<8.0,>=7.5->dataprep) (0.1.2)\n",
      "Requirement already satisfied: nbclient<0.6.0,>=0.5.0 in c:\\users\\soojin\\anaconda3\\lib\\site-packages (from nbconvert>=5->notebook>=4.4.1->widgetsnbextension~=3.5.0->ipywidgets<8.0,>=7.5->dataprep) (0.5.13)\n",
      "Requirement already satisfied: defusedxml in c:\\users\\soojin\\anaconda3\\lib\\site-packages (from nbconvert>=5->notebook>=4.4.1->widgetsnbextension~=3.5.0->ipywidgets<8.0,>=7.5->dataprep) (0.7.1)\n",
      "Requirement already satisfied: pandocfilters>=1.4.1 in c:\\users\\soojin\\anaconda3\\lib\\site-packages (from nbconvert>=5->notebook>=4.4.1->widgetsnbextension~=3.5.0->ipywidgets<8.0,>=7.5->dataprep) (1.5.0)\n",
      "Requirement already satisfied: testpath in c:\\users\\soojin\\anaconda3\\lib\\site-packages (from nbconvert>=5->notebook>=4.4.1->widgetsnbextension~=3.5.0->ipywidgets<8.0,>=7.5->dataprep) (0.6.0)\n",
      "Requirement already satisfied: pywinpty>=1.1.0 in c:\\users\\soojin\\anaconda3\\lib\\site-packages (from terminado>=0.8.3->notebook>=4.4.1->widgetsnbextension~=3.5.0->ipywidgets<8.0,>=7.5->dataprep) (2.0.2)\n",
      "Requirement already satisfied: argon2-cffi-bindings in c:\\users\\soojin\\anaconda3\\lib\\site-packages (from argon2-cffi->notebook>=4.4.1->widgetsnbextension~=3.5.0->ipywidgets<8.0,>=7.5->dataprep) (21.2.0)\n",
      "Requirement already satisfied: cffi>=1.0.1 in c:\\users\\soojin\\anaconda3\\lib\\site-packages (from argon2-cffi-bindings->argon2-cffi->notebook>=4.4.1->widgetsnbextension~=3.5.0->ipywidgets<8.0,>=7.5->dataprep) (1.15.1)\n",
      "Requirement already satisfied: soupsieve>1.2 in c:\\users\\soojin\\anaconda3\\lib\\site-packages (from beautifulsoup4->nbconvert>=5->notebook>=4.4.1->widgetsnbextension~=3.5.0->ipywidgets<8.0,>=7.5->dataprep) (2.3.1)\n",
      "Requirement already satisfied: webencodings in c:\\users\\soojin\\anaconda3\\lib\\site-packages (from bleach->nbconvert>=5->notebook>=4.4.1->widgetsnbextension~=3.5.0->ipywidgets<8.0,>=7.5->dataprep) (0.5.1)\n",
      "Requirement already satisfied: pycparser in c:\\users\\soojin\\anaconda3\\lib\\site-packages (from cffi>=1.0.1->argon2-cffi-bindings->argon2-cffi->notebook>=4.4.1->widgetsnbextension~=3.5.0->ipywidgets<8.0,>=7.5->dataprep) (2.21)\n",
      "Note: you may need to restart the kernel to use updated packages.\n"
     ]
    }
   ],
   "source": [
    "pip install dataprep"
   ]
  },
  {
   "cell_type": "code",
   "execution_count": 9,
   "id": "f9aad9b4",
   "metadata": {},
   "outputs": [
    {
     "ename": "ModuleNotFoundError",
     "evalue": "No module named 'dataprep'",
     "output_type": "error",
     "traceback": [
      "\u001b[1;31m---------------------------------------------------------------------------\u001b[0m",
      "\u001b[1;31mModuleNotFoundError\u001b[0m                       Traceback (most recent call last)",
      "\u001b[1;32m~\\AppData\\Local\\Temp\\ipykernel_13952\\4105137888.py\u001b[0m in \u001b[0;36m<module>\u001b[1;34m\u001b[0m\n\u001b[0;32m      3\u001b[0m \u001b[1;32mimport\u001b[0m \u001b[0mmatplotlib\u001b[0m\u001b[1;33m.\u001b[0m\u001b[0mpyplot\u001b[0m \u001b[1;32mas\u001b[0m \u001b[0mplt\u001b[0m\u001b[1;33m\u001b[0m\u001b[1;33m\u001b[0m\u001b[0m\n\u001b[0;32m      4\u001b[0m \u001b[1;32mimport\u001b[0m \u001b[0mseaborn\u001b[0m \u001b[1;32mas\u001b[0m \u001b[0msns\u001b[0m\u001b[1;33m\u001b[0m\u001b[1;33m\u001b[0m\u001b[0m\n\u001b[1;32m----> 5\u001b[1;33m \u001b[1;32mfrom\u001b[0m \u001b[0mdataprep\u001b[0m\u001b[1;33m.\u001b[0m\u001b[0mclean\u001b[0m \u001b[1;32mimport\u001b[0m \u001b[0mclean_country\u001b[0m\u001b[1;33m\u001b[0m\u001b[1;33m\u001b[0m\u001b[0m\n\u001b[0m\u001b[0;32m      6\u001b[0m \u001b[0mget_ipython\u001b[0m\u001b[1;33m(\u001b[0m\u001b[1;33m)\u001b[0m\u001b[1;33m.\u001b[0m\u001b[0mrun_line_magic\u001b[0m\u001b[1;33m(\u001b[0m\u001b[1;34m'matplotlib'\u001b[0m\u001b[1;33m,\u001b[0m \u001b[1;34m'inline'\u001b[0m\u001b[1;33m)\u001b[0m\u001b[1;33m\u001b[0m\u001b[1;33m\u001b[0m\u001b[0m\n",
      "\u001b[1;31mModuleNotFoundError\u001b[0m: No module named 'dataprep'"
     ]
    }
   ],
   "source": [
    "import numpy as np\n",
    "import pandas as pd\n",
    "import matplotlib.pyplot as plt\n",
    "import seaborn as sns\n",
    "from dataprep.clean import clean_country\n",
    "%matplotlib inline"
   ]
  },
  {
   "cell_type": "code",
   "execution_count": null,
   "id": "d214684f",
   "metadata": {},
   "outputs": [],
   "source": [
    "covid_df = pd.read_csv('WHO-COVID-19-global-data.csv', delimiter=',')"
   ]
  },
  {
   "cell_type": "code",
   "execution_count": null,
   "id": "d8968070",
   "metadata": {},
   "outputs": [],
   "source": [
    "covid_df"
   ]
  },
  {
   "cell_type": "markdown",
   "id": "cf6de55f",
   "metadata": {},
   "source": [
    "# 2. Data set setup"
   ]
  },
  {
   "cell_type": "markdown",
   "id": "4241307f",
   "metadata": {},
   "source": [
    "## 1. Data cleaning - lower case"
   ]
  },
  {
   "cell_type": "code",
   "execution_count": null,
   "id": "9a5f7ead",
   "metadata": {},
   "outputs": [],
   "source": [
    "covid_df.columns"
   ]
  },
  {
   "cell_type": "code",
   "execution_count": null,
   "id": "8484f7c5",
   "metadata": {},
   "outputs": [],
   "source": [
    "covid_df.columns = map(str.lower, covid_df.columns)"
   ]
  },
  {
   "cell_type": "code",
   "execution_count": null,
   "id": "da5033ff",
   "metadata": {},
   "outputs": [],
   "source": [
    "covid_df.columns"
   ]
  },
  {
   "cell_type": "code",
   "execution_count": null,
   "id": "2f72214f",
   "metadata": {},
   "outputs": [],
   "source": [
    "covid_df"
   ]
  },
  {
   "cell_type": "markdown",
   "id": "d9afca12",
   "metadata": {},
   "source": [
    "## 2. Data cleaning - Removing Unknown Values"
   ]
  },
  {
   "cell_type": "code",
   "execution_count": null,
   "id": "bcc7bb14",
   "metadata": {},
   "outputs": [],
   "source": [
    "covid_df.dtypes"
   ]
  },
  {
   "cell_type": "markdown",
   "id": "b14c3b45",
   "metadata": {},
   "source": [
    "#### We can see data_reported is date of reported but we can see it is obeject type.\n",
    "#### Normally, it should be int type but data_reported is date which is reported.\n",
    "#### So, in this case,  we can change to datatime type\n",
    "\n",
    "\n"
   ]
  },
  {
   "cell_type": "code",
   "execution_count": null,
   "id": "22005b18",
   "metadata": {},
   "outputs": [],
   "source": [
    "covid_df['date_reported'] = pd.to_datetime(covid_df['date_reported'])"
   ]
  },
  {
   "cell_type": "markdown",
   "id": "6aabd193",
   "metadata": {},
   "source": [
    "#### Now we can see date_reported is changed to datetime type."
   ]
  },
  {
   "cell_type": "code",
   "execution_count": null,
   "id": "b2ee1101",
   "metadata": {},
   "outputs": [],
   "source": [
    "covid_df.dtypes"
   ]
  },
  {
   "cell_type": "markdown",
   "id": "9e5928b5",
   "metadata": {},
   "source": [
    "####  And from now, trying to split to year, month and day."
   ]
  },
  {
   "cell_type": "code",
   "execution_count": null,
   "id": "7189b9a0",
   "metadata": {},
   "outputs": [],
   "source": [
    "covid_df['year'] = covid_df['date_reported'].dt.year\n",
    "covid_df['month'] = covid_df['date_reported'].dt.month\n",
    "covid_df['day'] = covid_df['date_reported'].dt.day"
   ]
  },
  {
   "cell_type": "markdown",
   "id": "ee275c0c",
   "metadata": {},
   "source": [
    "#### Now we can see year, month and day is appeared."
   ]
  },
  {
   "cell_type": "code",
   "execution_count": null,
   "id": "a8edb462",
   "metadata": {},
   "outputs": [],
   "source": [
    "covid_df"
   ]
  },
  {
   "cell_type": "markdown",
   "id": "d0bd79a5",
   "metadata": {},
   "source": [
    "#### As we can see, dataframe's rows are 252405, but only counrty_code's rows are 251340."
   ]
  },
  {
   "cell_type": "code",
   "execution_count": null,
   "id": "1278ff9c",
   "metadata": {},
   "outputs": [],
   "source": [
    "covid_df.count()"
   ]
  },
  {
   "cell_type": "markdown",
   "id": "7716dbda",
   "metadata": {},
   "source": [
    "#### However, when we just call the country_code, the length of it is same as covid_df."
   ]
  },
  {
   "cell_type": "code",
   "execution_count": null,
   "id": "96d9e441",
   "metadata": {},
   "outputs": [],
   "source": [
    "covid_df.country_code"
   ]
  },
  {
   "cell_type": "markdown",
   "id": "403b8a34",
   "metadata": {},
   "source": [
    "#### So we need to find where it is missing."
   ]
  },
  {
   "cell_type": "code",
   "execution_count": null,
   "id": "47d96e68",
   "metadata": {},
   "outputs": [],
   "source": [
    "bool_series = pd.isnull(covid_df['country_code'])"
   ]
  },
  {
   "cell_type": "code",
   "execution_count": null,
   "id": "3713e316",
   "metadata": {},
   "outputs": [],
   "source": [
    "covid_df[bool_series]"
   ]
  },
  {
   "cell_type": "markdown",
   "id": "3d5839b7",
   "metadata": {},
   "source": [
    "#### From 152295 to 153359, Namibia's country code is missing.\n",
    "#### Therefore, we need to replace to Namibia's country code. (NaN --> NA)\n",
    "#### However, if we changed to NaN to NA still python recognize for 'Not a number' not a data. \n",
    "#### So I will change all country code to 3 digits country code because namibia's 3 digits country code is NAM."
   ]
  },
  {
   "cell_type": "code",
   "execution_count": null,
   "id": "44706834",
   "metadata": {},
   "outputs": [],
   "source": [
    "covid_df = clean_country(covid_df, 'country', output_format = 'alpha-3')"
   ]
  }
 ],
 "metadata": {
  "kernelspec": {
   "display_name": "Python 3 (ipykernel)",
   "language": "python",
   "name": "python3"
  },
  "language_info": {
   "codemirror_mode": {
    "name": "ipython",
    "version": 3
   },
   "file_extension": ".py",
   "mimetype": "text/x-python",
   "name": "python",
   "nbconvert_exporter": "python",
   "pygments_lexer": "ipython3",
   "version": "3.9.13"
  }
 },
 "nbformat": 4,
 "nbformat_minor": 5
}
